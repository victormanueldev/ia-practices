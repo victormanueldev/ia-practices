{
 "cells": [
  {
   "cell_type": "markdown",
   "metadata": {},
   "source": [
    "# Proyecto Forbes 2021 - 2022 \n",
    "## Manipulación y transformación de datos con Pandas y Numpy\n",
    "\n",
    "## Autores\n",
    "- Victor Manuel Arenas Lopez\n",
    "- Marct Zullieth Isaza Yoja"
   ]
  },
  {
   "cell_type": "code",
   "execution_count": 11,
   "metadata": {},
   "outputs": [],
   "source": [
    "import os\n",
    "import numpy as np\n",
    "import pandas as pd"
   ]
  },
  {
   "cell_type": "code",
   "execution_count": 12,
   "metadata": {},
   "outputs": [
    {
     "data": {
      "text/plain": [
       "['.git',\n",
       " '.gitignore',\n",
       " '.venv',\n",
       " '.vscode',\n",
       " '1. Introduccion.ipynb',\n",
       " '2. Numpy.ipynb',\n",
       " '3. PandasForbes.ipynb',\n",
       " 'caracteristicas de vinos.csv',\n",
       " 'Explicacion del modelo kmeans.ipynb',\n",
       " 'Forbes 2000 2021.csv',\n",
       " 'Forbes 2000 2022.csv',\n",
       " 'forbes2023.csv',\n",
       " 'Forbes_2023.pdf',\n",
       " 'Mall_Customers.csv',\n",
       " 'Pandas_Forbes2023.ipynb',\n",
       " 'Project kmeans customer.ipynb']"
      ]
     },
     "execution_count": 12,
     "metadata": {},
     "output_type": "execute_result"
    }
   ],
   "source": [
    "os.chdir('C:/Users/Victor Manuel Arenas/Projects/IA/Inteligencia_artificial')\n",
    "os.listdir()"
   ]
  },
  {
   "cell_type": "code",
   "execution_count": 13,
   "metadata": {},
   "outputs": [],
   "source": [
    "forbes23 = pd.read_csv('forbes2023.csv',encoding= 'latin-1',sep=';')"
   ]
  },
  {
   "cell_type": "code",
   "execution_count": 14,
   "metadata": {},
   "outputs": [
    {
     "data": {
      "text/plain": [
       "Index(['Rank', 'Company', 'Country', 'Sales', 'Profits', 'Assets',\n",
       "       'Market_value'],\n",
       "      dtype='object')"
      ]
     },
     "execution_count": 14,
     "metadata": {},
     "output_type": "execute_result"
    }
   ],
   "source": [
    "# Cambiar el nombre de las columnas del DF\n",
    "forbes23.columns = ['Rank','Company','Country','Sales','Profits','Assets','Market_value']\n",
    "forbes23.columns"
   ]
  },
  {
   "cell_type": "code",
   "execution_count": 15,
   "metadata": {},
   "outputs": [],
   "source": [
    "# Quitar las ',' de todo el DF usando una expresion regular\n",
    "forbes23['Profits'] = forbes23['Profits'].replace(',', '', regex=True) "
   ]
  },
  {
   "cell_type": "code",
   "execution_count": 16,
   "metadata": {},
   "outputs": [],
   "source": [
    "# Coersionando los datos de str a float de la columna Profits\n",
    "forbes23.loc[:,'Profits'] = forbes23.loc[:,'Profits'].astype(float)"
   ]
  },
  {
   "cell_type": "code",
   "execution_count": 17,
   "metadata": {},
   "outputs": [
    {
     "data": {
      "text/plain": [
       "Rank            False\n",
       "Company         False\n",
       "Country         False\n",
       "Sales           False\n",
       "Profits         False\n",
       "Assets          False\n",
       "Market_value    False\n",
       "dtype: bool"
      ]
     },
     "execution_count": 17,
     "metadata": {},
     "output_type": "execute_result"
    }
   ],
   "source": [
    "# Validar si existe algun dato vacio en el DF\n",
    "forbes23.isna().any()"
   ]
  },
  {
   "cell_type": "code",
   "execution_count": 18,
   "metadata": {},
   "outputs": [
    {
     "data": {
      "text/html": [
       "<div>\n",
       "<style scoped>\n",
       "    .dataframe tbody tr th:only-of-type {\n",
       "        vertical-align: middle;\n",
       "    }\n",
       "\n",
       "    .dataframe tbody tr th {\n",
       "        vertical-align: top;\n",
       "    }\n",
       "\n",
       "    .dataframe thead th {\n",
       "        text-align: right;\n",
       "    }\n",
       "</style>\n",
       "<table border=\"1\" class=\"dataframe\">\n",
       "  <thead>\n",
       "    <tr style=\"text-align: right;\">\n",
       "      <th></th>\n",
       "      <th>Company</th>\n",
       "      <th>Country</th>\n",
       "      <th>Sales</th>\n",
       "    </tr>\n",
       "  </thead>\n",
       "  <tbody>\n",
       "    <tr>\n",
       "      <th>2</th>\n",
       "      <td>ICBC</td>\n",
       "      <td>China</td>\n",
       "      <td>216770</td>\n",
       "    </tr>\n",
       "    <tr>\n",
       "      <th>3</th>\n",
       "      <td>China Construction Bank</td>\n",
       "      <td>China</td>\n",
       "      <td>203080</td>\n",
       "    </tr>\n",
       "  </tbody>\n",
       "</table>\n",
       "</div>"
      ],
      "text/plain": [
       "                   Company Country   Sales\n",
       "2                     ICBC   China  216770\n",
       "3  China Construction Bank   China  203080"
      ]
     },
     "execution_count": 18,
     "metadata": {},
     "output_type": "execute_result"
    }
   ],
   "source": [
    "# Accediendo a las filas de la 2 a la 4 mostrando las columnas Company, Country y Sales\n",
    "forbes23[['Company','Country','Sales']][2:4]"
   ]
  },
  {
   "cell_type": "code",
   "execution_count": 19,
   "metadata": {},
   "outputs": [
    {
     "data": {
      "text/plain": [
       "Country\n",
       "Argentina                 1\n",
       "Australia                32\n",
       "Austria                   9\n",
       "Belgium                   6\n",
       "Bermuda                   6\n",
       "Brazil                   22\n",
       "Canada                   57\n",
       "Cayman Islands            2\n",
       "Chile                     8\n",
       "China                   302\n",
       "Colombia                  4\n",
       "Czech Republic            1\n",
       "Denmark                  10\n",
       "Egypt                     1\n",
       "Finland                  10\n",
       "France                   52\n",
       "Germany                  53\n",
       "Greece                    8\n",
       "Hong Kong                44\n",
       "Hungary                   2\n",
       "India                    55\n",
       "Indonesia                 8\n",
       "Ireland                  22\n",
       "Israel                   11\n",
       "Italy                    28\n",
       "Japan                   192\n",
       "Jordan                    1\n",
       "Kazakhstan                2\n",
       "Kuwait                    2\n",
       "Luxembourg                6\n",
       "Malaysia                  8\n",
       "Mexico                   13\n",
       "Morocco                   2\n",
       "Netherlands              25\n",
       "Nigeria                   2\n",
       "Norway                    9\n",
       "Oman                      1\n",
       "Pakistan                  1\n",
       "Peru                      1\n",
       "Philippines               4\n",
       "Poland                    7\n",
       "Portugal                  4\n",
       "Qatar                     6\n",
       "Saudi Arabia             17\n",
       "Singapore                14\n",
       "South Africa             12\n",
       "South Korea              59\n",
       "Spain                    20\n",
       "Sweden                   24\n",
       "Switzerland              44\n",
       "Taiwan                   45\n",
       "Thailand                 17\n",
       "Turkey                    9\n",
       "United Arab Emirates     16\n",
       "United Kingdom           67\n",
       "United States           610\n",
       "Uruguay                   1\n",
       "Vietnam                   5\n",
       "dtype: int64"
      ]
     },
     "execution_count": 19,
     "metadata": {},
     "output_type": "execute_result"
    }
   ],
   "source": [
    "# GroupBy Country\n",
    "forbes23.groupby('Country').size()"
   ]
  },
  {
   "cell_type": "markdown",
   "metadata": {},
   "source": [
    "## Analisis Exploratorio"
   ]
  },
  {
   "cell_type": "code",
   "execution_count": 20,
   "metadata": {},
   "outputs": [
    {
     "data": {
      "text/plain": [
       "0                              JPMorgan Chase\n",
       "1    Saudi Arabian Oil Company (Saudi Aramco)\n",
       "2                                        ICBC\n",
       "3                     China Construction Bank\n",
       "4                  Agricultural Bank of China\n",
       "Name: Company, dtype: object"
      ]
     },
     "execution_count": 20,
     "metadata": {},
     "output_type": "execute_result"
    }
   ],
   "source": [
    "# Primeras 5 empresas del ranking forbes 2020 2023\n",
    "forbes23.head(5)['Company']"
   ]
  },
  {
   "cell_type": "code",
   "execution_count": 21,
   "metadata": {},
   "outputs": [
    {
     "name": "stdout",
     "output_type": "stream",
     "text": [
      "24840.59999999999\n"
     ]
    }
   ],
   "source": [
    "# Valorar el 1% de las empresas con mas ganancias en el mundo\n",
    "p99p = np.percentile(forbes23['Profits'],99)\n",
    "print(p99p)"
   ]
  },
  {
   "cell_type": "code",
   "execution_count": 22,
   "metadata": {},
   "outputs": [
    {
     "data": {
      "text/html": [
       "<div>\n",
       "<style scoped>\n",
       "    .dataframe tbody tr th:only-of-type {\n",
       "        vertical-align: middle;\n",
       "    }\n",
       "\n",
       "    .dataframe tbody tr th {\n",
       "        vertical-align: top;\n",
       "    }\n",
       "\n",
       "    .dataframe thead th {\n",
       "        text-align: right;\n",
       "    }\n",
       "</style>\n",
       "<table border=\"1\" class=\"dataframe\">\n",
       "  <thead>\n",
       "    <tr style=\"text-align: right;\">\n",
       "      <th></th>\n",
       "      <th>Company</th>\n",
       "      <th>Country</th>\n",
       "      <th>Profits</th>\n",
       "    </tr>\n",
       "  </thead>\n",
       "  <tbody>\n",
       "    <tr>\n",
       "      <th>0</th>\n",
       "      <td>JPMorgan Chase</td>\n",
       "      <td>United States</td>\n",
       "      <td>41800.0</td>\n",
       "    </tr>\n",
       "    <tr>\n",
       "      <th>1</th>\n",
       "      <td>Saudi Arabian Oil Company (Saudi Aramco)</td>\n",
       "      <td>Saudi Arabia</td>\n",
       "      <td>156360.0</td>\n",
       "    </tr>\n",
       "    <tr>\n",
       "      <th>2</th>\n",
       "      <td>ICBC</td>\n",
       "      <td>China</td>\n",
       "      <td>52470.0</td>\n",
       "    </tr>\n",
       "    <tr>\n",
       "      <th>3</th>\n",
       "      <td>China Construction Bank</td>\n",
       "      <td>China</td>\n",
       "      <td>48250.0</td>\n",
       "    </tr>\n",
       "    <tr>\n",
       "      <th>4</th>\n",
       "      <td>Agricultural Bank of China</td>\n",
       "      <td>China</td>\n",
       "      <td>37920.0</td>\n",
       "    </tr>\n",
       "    <tr>\n",
       "      <th>5</th>\n",
       "      <td>Bank of America</td>\n",
       "      <td>United States</td>\n",
       "      <td>28620.0</td>\n",
       "    </tr>\n",
       "    <tr>\n",
       "      <th>6</th>\n",
       "      <td>Alphabet</td>\n",
       "      <td>United States</td>\n",
       "      <td>58590.0</td>\n",
       "    </tr>\n",
       "    <tr>\n",
       "      <th>7</th>\n",
       "      <td>ExxonMobil</td>\n",
       "      <td>United States</td>\n",
       "      <td>61690.0</td>\n",
       "    </tr>\n",
       "    <tr>\n",
       "      <th>8</th>\n",
       "      <td>Microsoft</td>\n",
       "      <td>United States</td>\n",
       "      <td>69020.0</td>\n",
       "    </tr>\n",
       "    <tr>\n",
       "      <th>9</th>\n",
       "      <td>Apple</td>\n",
       "      <td>United States</td>\n",
       "      <td>94320.0</td>\n",
       "    </tr>\n",
       "    <tr>\n",
       "      <th>10</th>\n",
       "      <td>Shell</td>\n",
       "      <td>United Kingdom</td>\n",
       "      <td>43510.0</td>\n",
       "    </tr>\n",
       "    <tr>\n",
       "      <th>11</th>\n",
       "      <td>Bank of China</td>\n",
       "      <td>China</td>\n",
       "      <td>33230.0</td>\n",
       "    </tr>\n",
       "    <tr>\n",
       "      <th>13</th>\n",
       "      <td>Samsung Electronics</td>\n",
       "      <td>South Korea</td>\n",
       "      <td>34490.0</td>\n",
       "    </tr>\n",
       "    <tr>\n",
       "      <th>17</th>\n",
       "      <td>Chevron</td>\n",
       "      <td>United States</td>\n",
       "      <td>35780.0</td>\n",
       "    </tr>\n",
       "    <tr>\n",
       "      <th>27</th>\n",
       "      <td>BP</td>\n",
       "      <td>United Kingdom</td>\n",
       "      <td>25890.0</td>\n",
       "    </tr>\n",
       "    <tr>\n",
       "      <th>34</th>\n",
       "      <td>Tencent Holdings</td>\n",
       "      <td>China</td>\n",
       "      <td>27260.0</td>\n",
       "    </tr>\n",
       "    <tr>\n",
       "      <th>38</th>\n",
       "      <td>Pfizer</td>\n",
       "      <td>United States</td>\n",
       "      <td>29040.0</td>\n",
       "    </tr>\n",
       "    <tr>\n",
       "      <th>43</th>\n",
       "      <td>Taiwan Semiconductor</td>\n",
       "      <td>Taiwan</td>\n",
       "      <td>33570.0</td>\n",
       "    </tr>\n",
       "    <tr>\n",
       "      <th>51</th>\n",
       "      <td>Equinor</td>\n",
       "      <td>Norway</td>\n",
       "      <td>28980.0</td>\n",
       "    </tr>\n",
       "    <tr>\n",
       "      <th>57</th>\n",
       "      <td>Petrobras</td>\n",
       "      <td>Brazil</td>\n",
       "      <td>36470.0</td>\n",
       "    </tr>\n",
       "  </tbody>\n",
       "</table>\n",
       "</div>"
      ],
      "text/plain": [
       "                                     Company         Country   Profits\n",
       "0                             JPMorgan Chase   United States   41800.0\n",
       "1   Saudi Arabian Oil Company (Saudi Aramco)    Saudi Arabia  156360.0\n",
       "2                                       ICBC           China   52470.0\n",
       "3                    China Construction Bank           China   48250.0\n",
       "4                 Agricultural Bank of China           China   37920.0\n",
       "5                            Bank of America   United States   28620.0\n",
       "6                                   Alphabet   United States   58590.0\n",
       "7                                 ExxonMobil   United States   61690.0\n",
       "8                                  Microsoft   United States   69020.0\n",
       "9                                      Apple   United States   94320.0\n",
       "10                                     Shell  United Kingdom   43510.0\n",
       "11                             Bank of China           China   33230.0\n",
       "13                       Samsung Electronics     South Korea   34490.0\n",
       "17                                   Chevron   United States   35780.0\n",
       "27                                        BP  United Kingdom   25890.0\n",
       "34                          Tencent Holdings           China   27260.0\n",
       "38                                    Pfizer   United States   29040.0\n",
       "43                      Taiwan Semiconductor          Taiwan   33570.0\n",
       "51                                   Equinor          Norway   28980.0\n",
       "57                                 Petrobras          Brazil   36470.0"
      ]
     },
     "execution_count": 22,
     "metadata": {},
     "output_type": "execute_result"
    }
   ],
   "source": [
    "# Filtrar las compañias con ganancias mayores a p99p\n",
    "forbes23[forbes23['Profits'] > p99p][['Company','Country','Profits']]\n"
   ]
  },
  {
   "cell_type": "code",
   "execution_count": 23,
   "metadata": {},
   "outputs": [
    {
     "data": {
      "text/html": [
       "<div>\n",
       "<style scoped>\n",
       "    .dataframe tbody tr th:only-of-type {\n",
       "        vertical-align: middle;\n",
       "    }\n",
       "\n",
       "    .dataframe tbody tr th {\n",
       "        vertical-align: top;\n",
       "    }\n",
       "\n",
       "    .dataframe thead th {\n",
       "        text-align: right;\n",
       "    }\n",
       "</style>\n",
       "<table border=\"1\" class=\"dataframe\">\n",
       "  <thead>\n",
       "    <tr style=\"text-align: right;\">\n",
       "      <th></th>\n",
       "      <th>Rank</th>\n",
       "      <th>Company</th>\n",
       "      <th>Country</th>\n",
       "      <th>Sales</th>\n",
       "      <th>Profits</th>\n",
       "      <th>Assets</th>\n",
       "      <th>Market_value</th>\n",
       "    </tr>\n",
       "  </thead>\n",
       "  <tbody>\n",
       "    <tr>\n",
       "      <th>310</th>\n",
       "      <td>311</td>\n",
       "      <td>Ecopetrol</td>\n",
       "      <td>Colombia</td>\n",
       "      <td>33670</td>\n",
       "      <td>7850.0</td>\n",
       "      <td>62450</td>\n",
       "      <td>18760</td>\n",
       "    </tr>\n",
       "    <tr>\n",
       "      <th>896</th>\n",
       "      <td>897</td>\n",
       "      <td>Bancolombia</td>\n",
       "      <td>Colombia</td>\n",
       "      <td>7850</td>\n",
       "      <td>1590.0</td>\n",
       "      <td>72760</td>\n",
       "      <td>7380</td>\n",
       "    </tr>\n",
       "    <tr>\n",
       "      <th>1404</th>\n",
       "      <td>1405</td>\n",
       "      <td>Grupo Aval</td>\n",
       "      <td>Colombia</td>\n",
       "      <td>6580</td>\n",
       "      <td>5828.0</td>\n",
       "      <td>60960</td>\n",
       "      <td>2920</td>\n",
       "    </tr>\n",
       "    <tr>\n",
       "      <th>1977</th>\n",
       "      <td>1977</td>\n",
       "      <td>Grupo Bolivar</td>\n",
       "      <td>Colombia</td>\n",
       "      <td>5880</td>\n",
       "      <td>2492.0</td>\n",
       "      <td>41940</td>\n",
       "      <td>1110</td>\n",
       "    </tr>\n",
       "  </tbody>\n",
       "</table>\n",
       "</div>"
      ],
      "text/plain": [
       "      Rank        Company   Country  Sales Profits  Assets  Market_value\n",
       "310    311      Ecopetrol  Colombia  33670  7850.0   62450         18760\n",
       "896    897    Bancolombia  Colombia   7850  1590.0   72760          7380\n",
       "1404  1405     Grupo Aval  Colombia   6580  5828.0   60960          2920\n",
       "1977  1977  Grupo Bolivar  Colombia   5880  2492.0   41940          1110"
      ]
     },
     "execution_count": 23,
     "metadata": {},
     "output_type": "execute_result"
    }
   ],
   "source": [
    "# Filtrar las empresas Colombianas que tuvieron ganancias mayoes $1.000\n",
    "forbes23[(forbes23['Country']== 'Colombia') & (forbes23['Profits']> 1000)]\n"
   ]
  },
  {
   "cell_type": "code",
   "execution_count": 24,
   "metadata": {},
   "outputs": [],
   "source": [
    "import matplotlib.pyplot as plt"
   ]
  },
  {
   "cell_type": "code",
   "execution_count": 25,
   "metadata": {},
   "outputs": [
    {
     "data": {
      "image/png": "[encoded data removed]",
      "text/plain": [
       "<Figure size 640x480 with 1 Axes>"
      ]
     },
     "metadata": {},
     "output_type": "display_data"
    }
   ],
   "source": [
    "# Comparacion de las ventas vs ganancias de las compañias\n",
    "# Crear un histograma para las ventas de todas las compañias\n",
    "plt.hist(forbes23['Sales'], alpha=0.5, label='Sales')\n",
    "# Crear un histograma para las ganancias de todas las compañias\n",
    "plt.hist(forbes23['Profits'], alpha=0.6, label='Profits')\n",
    "# Configurar las propiedades de leyenda del gráfico\n",
    "plt.legend()\n",
    "plt.xlabel('Valor')\n",
    "plt.ylabel('Frecuencia')\n",
    "plt.title('Histograma de Sales y Profits')\n",
    "plt.grid(color='gray', linestyle='solid', alpha = 0.3)\n",
    "plt.show()"
   ]
  },
  {
   "cell_type": "code",
   "execution_count": 26,
   "metadata": {},
   "outputs": [
    {
     "data": {
      "text/html": [
       "<div>\n",
       "<style scoped>\n",
       "    .dataframe tbody tr th:only-of-type {\n",
       "        vertical-align: middle;\n",
       "    }\n",
       "\n",
       "    .dataframe tbody tr th {\n",
       "        vertical-align: top;\n",
       "    }\n",
       "\n",
       "    .dataframe thead th {\n",
       "        text-align: right;\n",
       "    }\n",
       "</style>\n",
       "<table border=\"1\" class=\"dataframe\">\n",
       "  <thead>\n",
       "    <tr style=\"text-align: right;\">\n",
       "      <th></th>\n",
       "      <th>Rank</th>\n",
       "      <th>Company</th>\n",
       "      <th>Country</th>\n",
       "      <th>Sales</th>\n",
       "      <th>Profits</th>\n",
       "      <th>Assets</th>\n",
       "      <th>Market_value</th>\n",
       "    </tr>\n",
       "  </thead>\n",
       "  <tbody>\n",
       "    <tr>\n",
       "      <th>979</th>\n",
       "      <td>980</td>\n",
       "      <td>Gerdau (Cosigua)</td>\n",
       "      <td>Brazil</td>\n",
       "      <td>15700</td>\n",
       "      <td>2270.0</td>\n",
       "      <td>14940</td>\n",
       "      <td>8730</td>\n",
       "    </tr>\n",
       "    <tr>\n",
       "      <th>749</th>\n",
       "      <td>750</td>\n",
       "      <td>YPF</td>\n",
       "      <td>Argentina</td>\n",
       "      <td>18630</td>\n",
       "      <td>2210.0</td>\n",
       "      <td>25910</td>\n",
       "      <td>9050</td>\n",
       "    </tr>\n",
       "    <tr>\n",
       "      <th>170</th>\n",
       "      <td>171</td>\n",
       "      <td>Banco do Brasil</td>\n",
       "      <td>Brazil</td>\n",
       "      <td>53980</td>\n",
       "      <td>5760.0</td>\n",
       "      <td>380270</td>\n",
       "      <td>24850</td>\n",
       "    </tr>\n",
       "    <tr>\n",
       "      <th>1429</th>\n",
       "      <td>1430</td>\n",
       "      <td>Latam Airlines</td>\n",
       "      <td>Chile</td>\n",
       "      <td>9430</td>\n",
       "      <td>1480.0</td>\n",
       "      <td>13210</td>\n",
       "      <td>4520</td>\n",
       "    </tr>\n",
       "    <tr>\n",
       "      <th>97</th>\n",
       "      <td>98</td>\n",
       "      <td>Ita Unibanco Holding</td>\n",
       "      <td>Brazil</td>\n",
       "      <td>53170</td>\n",
       "      <td>5750.0</td>\n",
       "      <td>441400</td>\n",
       "      <td>51280</td>\n",
       "    </tr>\n",
       "    <tr>\n",
       "      <th>1404</th>\n",
       "      <td>1405</td>\n",
       "      <td>Grupo Aval</td>\n",
       "      <td>Colombia</td>\n",
       "      <td>6580</td>\n",
       "      <td>5828.0</td>\n",
       "      <td>60960</td>\n",
       "      <td>2920</td>\n",
       "    </tr>\n",
       "    <tr>\n",
       "      <th>1222</th>\n",
       "      <td>1223</td>\n",
       "      <td>WEG</td>\n",
       "      <td>Brazil</td>\n",
       "      <td>5970</td>\n",
       "      <td>8865.0</td>\n",
       "      <td>5700</td>\n",
       "      <td>33130</td>\n",
       "    </tr>\n",
       "    <tr>\n",
       "      <th>172</th>\n",
       "      <td>173</td>\n",
       "      <td>Banco Bradesco</td>\n",
       "      <td>Brazil</td>\n",
       "      <td>56260</td>\n",
       "      <td>3490.0</td>\n",
       "      <td>357450</td>\n",
       "      <td>31600</td>\n",
       "    </tr>\n",
       "    <tr>\n",
       "      <th>953</th>\n",
       "      <td>954</td>\n",
       "      <td>MercadoLibre</td>\n",
       "      <td>Uruguay</td>\n",
       "      <td>11330</td>\n",
       "      <td>618.0</td>\n",
       "      <td>14200</td>\n",
       "      <td>62440</td>\n",
       "    </tr>\n",
       "    <tr>\n",
       "      <th>1678</th>\n",
       "      <td>1679</td>\n",
       "      <td>Ultrapar Participacoes</td>\n",
       "      <td>Brazil</td>\n",
       "      <td>27670</td>\n",
       "      <td>3124.0</td>\n",
       "      <td>6690</td>\n",
       "      <td>3610</td>\n",
       "    </tr>\n",
       "    <tr>\n",
       "      <th>805</th>\n",
       "      <td>806</td>\n",
       "      <td>SQM</td>\n",
       "      <td>Chile</td>\n",
       "      <td>10790</td>\n",
       "      <td>3940.0</td>\n",
       "      <td>10820</td>\n",
       "      <td>19320</td>\n",
       "    </tr>\n",
       "    <tr>\n",
       "      <th>1977</th>\n",
       "      <td>1977</td>\n",
       "      <td>Grupo Bolivar</td>\n",
       "      <td>Colombia</td>\n",
       "      <td>5880</td>\n",
       "      <td>2492.0</td>\n",
       "      <td>41940</td>\n",
       "      <td>1110</td>\n",
       "    </tr>\n",
       "    <tr>\n",
       "      <th>57</th>\n",
       "      <td>58</td>\n",
       "      <td>Petrobras</td>\n",
       "      <td>Brazil</td>\n",
       "      <td>124170</td>\n",
       "      <td>36470.0</td>\n",
       "      <td>184990</td>\n",
       "      <td>63030</td>\n",
       "    </tr>\n",
       "    <tr>\n",
       "      <th>1025</th>\n",
       "      <td>1026</td>\n",
       "      <td>Itasa</td>\n",
       "      <td>Brazil</td>\n",
       "      <td>1640</td>\n",
       "      <td>2650.0</td>\n",
       "      <td>18300</td>\n",
       "      <td>17070</td>\n",
       "    </tr>\n",
       "    <tr>\n",
       "      <th>1295</th>\n",
       "      <td>1296</td>\n",
       "      <td>Raizen</td>\n",
       "      <td>Brazil</td>\n",
       "      <td>47310</td>\n",
       "      <td>187.0</td>\n",
       "      <td>19900</td>\n",
       "      <td>6810</td>\n",
       "    </tr>\n",
       "    <tr>\n",
       "      <th>1784</th>\n",
       "      <td>1785</td>\n",
       "      <td>Cencosud</td>\n",
       "      <td>Chile</td>\n",
       "      <td>16490</td>\n",
       "      <td>422.0</td>\n",
       "      <td>15280</td>\n",
       "      <td>5640</td>\n",
       "    </tr>\n",
       "    <tr>\n",
       "      <th>773</th>\n",
       "      <td>774</td>\n",
       "      <td>Suzano</td>\n",
       "      <td>Brazil</td>\n",
       "      <td>9960</td>\n",
       "      <td>3550.0</td>\n",
       "      <td>26700</td>\n",
       "      <td>10950</td>\n",
       "    </tr>\n",
       "    <tr>\n",
       "      <th>1573</th>\n",
       "      <td>1574</td>\n",
       "      <td>B3</td>\n",
       "      <td>Brazil</td>\n",
       "      <td>1760</td>\n",
       "      <td>8183.0</td>\n",
       "      <td>9210</td>\n",
       "      <td>13840</td>\n",
       "    </tr>\n",
       "    <tr>\n",
       "      <th>899</th>\n",
       "      <td>900</td>\n",
       "      <td>AntarChile</td>\n",
       "      <td>Chile</td>\n",
       "      <td>30780</td>\n",
       "      <td>9065.0</td>\n",
       "      <td>29400</td>\n",
       "      <td>3950</td>\n",
       "    </tr>\n",
       "    <tr>\n",
       "      <th>1435</th>\n",
       "      <td>1436</td>\n",
       "      <td>XP</td>\n",
       "      <td>Brazil</td>\n",
       "      <td>2650</td>\n",
       "      <td>6938.0</td>\n",
       "      <td>36370</td>\n",
       "      <td>8360</td>\n",
       "    </tr>\n",
       "  </tbody>\n",
       "</table>\n",
       "</div>"
      ],
      "text/plain": [
       "      Rank                 Company    Country   Sales  Profits  Assets  \\\n",
       "979    980        Gerdau (Cosigua)     Brazil   15700   2270.0   14940   \n",
       "749    750                     YPF  Argentina   18630   2210.0   25910   \n",
       "170    171         Banco do Brasil     Brazil   53980   5760.0  380270   \n",
       "1429  1430          Latam Airlines      Chile    9430   1480.0   13210   \n",
       "97      98   Ita Unibanco Holding     Brazil   53170   5750.0  441400   \n",
       "1404  1405              Grupo Aval   Colombia    6580   5828.0   60960   \n",
       "1222  1223                     WEG     Brazil    5970   8865.0    5700   \n",
       "172    173          Banco Bradesco     Brazil   56260   3490.0  357450   \n",
       "953    954            MercadoLibre    Uruguay   11330    618.0   14200   \n",
       "1678  1679  Ultrapar Participacoes     Brazil   27670   3124.0    6690   \n",
       "805    806                     SQM      Chile   10790   3940.0   10820   \n",
       "1977  1977           Grupo Bolivar   Colombia    5880   2492.0   41940   \n",
       "57      58               Petrobras     Brazil  124170  36470.0  184990   \n",
       "1025  1026                  Itasa     Brazil    1640   2650.0   18300   \n",
       "1295  1296                  Raizen     Brazil   47310    187.0   19900   \n",
       "1784  1785                Cencosud      Chile   16490    422.0   15280   \n",
       "773    774                  Suzano     Brazil    9960   3550.0   26700   \n",
       "1573  1574                      B3     Brazil    1760   8183.0    9210   \n",
       "899    900              AntarChile      Chile   30780   9065.0   29400   \n",
       "1435  1436                      XP     Brazil    2650   6938.0   36370   \n",
       "\n",
       "      Market_value  \n",
       "979           8730  \n",
       "749           9050  \n",
       "170          24850  \n",
       "1429          4520  \n",
       "97           51280  \n",
       "1404          2920  \n",
       "1222         33130  \n",
       "172          31600  \n",
       "953          62440  \n",
       "1678          3610  \n",
       "805          19320  \n",
       "1977          1110  \n",
       "57           63030  \n",
       "1025         17070  \n",
       "1295          6810  \n",
       "1784          5640  \n",
       "773          10950  \n",
       "1573         13840  \n",
       "899           3950  \n",
       "1435          8360  "
      ]
     },
     "execution_count": 26,
     "metadata": {},
     "output_type": "execute_result"
    }
   ],
   "source": [
    "# Paises definidos para Sudamerica\n",
    "suda = ['Argentina','Bolivia','Brazil','Chile','Colombia','Ecuador','Paraguay','Peru','Uruguay','Venezuela']\n",
    "# Crear un DF solamente con las compañias que pertenezcan a  los paises definidos para Sudamerica\n",
    "f_suda = forbes23[forbes23['Country'].isin(suda)]\n",
    "f_suda.sample(20)"
   ]
  },
  {
   "cell_type": "code",
   "execution_count": 27,
   "metadata": {},
   "outputs": [
    {
     "data": {
      "image/png": "[encoded data removed]",
      "text/plain": [
       "<Figure size 640x480 with 1 Axes>"
      ]
     },
     "metadata": {},
     "output_type": "display_data"
    }
   ],
   "source": [
    "# Crear el DF para guardar las frecuencias e indices del DF de compañias sudamenricanas\n",
    "table_suda=f_suda['Country'].value_counts()\n",
    "\n",
    "# Grafico pie de las compañias sudamericanas\n",
    "plt.pie(table_suda.values,labels=table_suda.index)\n",
    "plt.show() #Imprime el gráfico\n"
   ]
  },
  {
   "cell_type": "markdown",
   "metadata": {},
   "source": [
    "## Médtodo del Codo"
   ]
  },
  {
   "cell_type": "code",
   "execution_count": 28,
   "metadata": {},
   "outputs": [],
   "source": [
    "from sklearn.cluster import KMeans"
   ]
  },
  {
   "cell_type": "code",
   "execution_count": 42,
   "metadata": {},
   "outputs": [
    {
     "name": "stderr",
     "output_type": "stream",
     "text": [
      "c:\\Users\\Victor Manuel Arenas\\Projects\\IA\\Inteligencia_artificial\\.venv\\Lib\\site-packages\\sklearn\\cluster\\_kmeans.py:1416: FutureWarning: The default value of `n_init` will change from 10 to 'auto' in 1.4. Set the value of `n_init` explicitly to suppress the warning\n",
      "  super()._check_params_vs_input(X, default_n_init=10)\n",
      "c:\\Users\\Victor Manuel Arenas\\Projects\\IA\\Inteligencia_artificial\\.venv\\Lib\\site-packages\\sklearn\\cluster\\_kmeans.py:1416: FutureWarning: The default value of `n_init` will change from 10 to 'auto' in 1.4. Set the value of `n_init` explicitly to suppress the warning\n",
      "  super()._check_params_vs_input(X, default_n_init=10)\n",
      "c:\\Users\\Victor Manuel Arenas\\Projects\\IA\\Inteligencia_artificial\\.venv\\Lib\\site-packages\\sklearn\\cluster\\_kmeans.py:1416: FutureWarning: The default value of `n_init` will change from 10 to 'auto' in 1.4. Set the value of `n_init` explicitly to suppress the warning\n",
      "  super()._check_params_vs_input(X, default_n_init=10)\n",
      "c:\\Users\\Victor Manuel Arenas\\Projects\\IA\\Inteligencia_artificial\\.venv\\Lib\\site-packages\\sklearn\\cluster\\_kmeans.py:1416: FutureWarning: The default value of `n_init` will change from 10 to 'auto' in 1.4. Set the value of `n_init` explicitly to suppress the warning\n",
      "  super()._check_params_vs_input(X, default_n_init=10)\n",
      "c:\\Users\\Victor Manuel Arenas\\Projects\\IA\\Inteligencia_artificial\\.venv\\Lib\\site-packages\\sklearn\\cluster\\_kmeans.py:1416: FutureWarning: The default value of `n_init` will change from 10 to 'auto' in 1.4. Set the value of `n_init` explicitly to suppress the warning\n",
      "  super()._check_params_vs_input(X, default_n_init=10)\n",
      "c:\\Users\\Victor Manuel Arenas\\Projects\\IA\\Inteligencia_artificial\\.venv\\Lib\\site-packages\\sklearn\\cluster\\_kmeans.py:1416: FutureWarning: The default value of `n_init` will change from 10 to 'auto' in 1.4. Set the value of `n_init` explicitly to suppress the warning\n",
      "  super()._check_params_vs_input(X, default_n_init=10)\n",
      "c:\\Users\\Victor Manuel Arenas\\Projects\\IA\\Inteligencia_artificial\\.venv\\Lib\\site-packages\\sklearn\\cluster\\_kmeans.py:1416: FutureWarning: The default value of `n_init` will change from 10 to 'auto' in 1.4. Set the value of `n_init` explicitly to suppress the warning\n",
      "  super()._check_params_vs_input(X, default_n_init=10)\n",
      "c:\\Users\\Victor Manuel Arenas\\Projects\\IA\\Inteligencia_artificial\\.venv\\Lib\\site-packages\\sklearn\\cluster\\_kmeans.py:1416: FutureWarning: The default value of `n_init` will change from 10 to 'auto' in 1.4. Set the value of `n_init` explicitly to suppress the warning\n",
      "  super()._check_params_vs_input(X, default_n_init=10)\n",
      "c:\\Users\\Victor Manuel Arenas\\Projects\\IA\\Inteligencia_artificial\\.venv\\Lib\\site-packages\\sklearn\\cluster\\_kmeans.py:1416: FutureWarning: The default value of `n_init` will change from 10 to 'auto' in 1.4. Set the value of `n_init` explicitly to suppress the warning\n",
      "  super()._check_params_vs_input(X, default_n_init=10)\n",
      "c:\\Users\\Victor Manuel Arenas\\Projects\\IA\\Inteligencia_artificial\\.venv\\Lib\\site-packages\\sklearn\\cluster\\_kmeans.py:1416: FutureWarning: The default value of `n_init` will change from 10 to 'auto' in 1.4. Set the value of `n_init` explicitly to suppress the warning\n",
      "  super()._check_params_vs_input(X, default_n_init=10)\n"
     ]
    }
   ],
   "source": [
    "WCSS = []\n",
    "df = forbes23\n",
    "df = df.drop('Company', axis=1)\n",
    "df = df.drop('Country', axis=1)\n",
    "for k in range(1, 11):\n",
    "    kmeans = KMeans(n_clusters=k, max_iter=1000).fit(df)\n",
    "    WCSS.append(kmeans.inertia_)"
   ]
  },
  {
   "cell_type": "code",
   "execution_count": 43,
   "metadata": {},
   "outputs": [
    {
     "name": "stdout",
     "output_type": "stream",
     "text": [
      "[307496112463427.4, 118832653578537.5, 71599742449035.62, 52340767378682.766, 36676539845030.25, 26520847965614.496, 21009092967355.586, 17986648508056.617, 15387758259105.371, 13949243519415.186]\n"
     ]
    }
   ],
   "source": [
    "print(WCSS)"
   ]
  },
  {
   "cell_type": "code",
   "execution_count": 44,
   "metadata": {},
   "outputs": [
    {
     "data": {
      "image/png": "[encoded data removed]",
      "text/plain": [
       "<Figure size 640x480 with 1 Axes>"
      ]
     },
     "metadata": {},
     "output_type": "display_data"
    }
   ],
   "source": [
    "plt.plot(range(1,11),WCSS)\n",
    "plt.title('The Elbow Point Graph')\n",
    "plt.xlabel('Numero de Clusters (K)')\n",
    "plt.ylabel('WCSS')\n",
    "plt.show()"
   ]
  },
  {
   "cell_type": "code",
   "execution_count": 45,
   "metadata": {},
   "outputs": [],
   "source": [
    "kmeans_model = KMeans(n_clusters=5, init='k-means++',random_state=0)"
   ]
  },
  {
   "cell_type": "code",
   "execution_count": 49,
   "metadata": {},
   "outputs": [
    {
     "name": "stdout",
     "output_type": "stream",
     "text": [
      "[1 3 1 ... 0 0 0]\n"
     ]
    },
    {
     "name": "stderr",
     "output_type": "stream",
     "text": [
      "c:\\Users\\Victor Manuel Arenas\\Projects\\IA\\Inteligencia_artificial\\.venv\\Lib\\site-packages\\sklearn\\cluster\\_kmeans.py:1416: FutureWarning: The default value of `n_init` will change from 10 to 'auto' in 1.4. Set the value of `n_init` explicitly to suppress the warning\n",
      "  super()._check_params_vs_input(X, default_n_init=10)\n"
     ]
    }
   ],
   "source": [
    "y = kmeans_model.fit_predict(df)"
   ]
  },
  {
   "cell_type": "code",
   "execution_count": 50,
   "metadata": {},
   "outputs": [
    {
     "data": {
      "text/plain": [
       "array([[1.05583047e+03, 2.06435676e+04, 3.38956491e+03, 4.98850456e+04,\n",
       "        2.94223498e+04],\n",
       "       [6.25000000e+01, 1.78286667e+05, 3.76600000e+04, 4.82244667e+06,\n",
       "        1.73431833e+05],\n",
       "       [8.95000000e+01, 7.77491667e+04, 1.08204167e+04, 2.04796667e+06,\n",
       "        7.99402917e+04],\n",
       "       [1.28000000e+01, 3.97982000e+05, 7.65160000e+04, 4.41422000e+05,\n",
       "        1.90717200e+06],\n",
       "       [2.96673267e+02, 7.36604158e+04, 4.75137624e+03, 5.78356238e+05,\n",
       "        6.58709010e+04]])"
      ]
     },
     "execution_count": 50,
     "metadata": {},
     "output_type": "execute_result"
    }
   ],
   "source": [
    "kmeans_model.cluster_centers_"
   ]
  },
  {
   "cell_type": "code",
   "execution_count": 53,
   "metadata": {},
   "outputs": [
    {
     "data": {
      "text/plain": [
       "Index(['Rank', 'Sales', 'Profits', 'Assets', 'Market_value'], dtype='object')"
      ]
     },
     "execution_count": 53,
     "metadata": {},
     "output_type": "execute_result"
    }
   ],
   "source": [
    "df.columns"
   ]
  },
  {
   "cell_type": "code",
   "execution_count": 88,
   "metadata": {},
   "outputs": [
    {
     "name": "stderr",
     "output_type": "stream",
     "text": [
      "C:\\Users\\Victor Manuel Arenas\\AppData\\Local\\Temp\\ipykernel_16152\\2544807254.py:2: UserWarning: Ignoring `palette` because no `hue` variable has been assigned.\n",
      "  sns.scatterplot(x='Rank', y='Assets', data=df, palette = \"viridis\")\n"
     ]
    },
    {
     "data": {
      "image/png": "[encoded data removed]",
      "text/plain": [
       "<Figure size 640x480 with 1 Axes>"
      ]
     },
     "metadata": {},
     "output_type": "display_data"
    }
   ],
   "source": [
    "import seaborn as sns; sns.set()\n",
    "sns.scatterplot(x='Rank', y='Assets', data=df, palette = \"viridis\")\n",
    "plt.show()"
   ]
  },
  {
   "cell_type": "code",
   "execution_count": 94,
   "metadata": {},
   "outputs": [
    {
     "data": {
      "image/png": "[encoded data removed]",
      "text/plain": [
       "<Figure size 640x480 with 1 Axes>"
      ]
     },
     "metadata": {},
     "output_type": "display_data"
    }
   ],
   "source": [
    "# Kmeans\n",
    "sns.scatterplot(x='Rank', y='Market_value', hue= y, data=df, palette = \"viridis\")\n",
    "plt.scatter(kmeans_model.cluster_centers_[:,0],kmeans_model.cluster_centers_[:,4],marker='*',s=100)\n",
    "plt.show()"
   ]
  },
  {
   "cell_type": "markdown",
   "metadata": {},
   "source": [
    "## Interpretación de la Clasificación"
   ]
  },
  {
   "cell_type": "code",
   "execution_count": null,
   "metadata": {},
   "outputs": [],
   "source": []
  }
 ],
 "metadata": {
  "kernelspec": {
   "display_name": "Python 3",
   "language": "python",
   "name": "python3"
  },
  "language_info": {
   "codemirror_mode": {
    "name": "ipython",
    "version": 3
   },
   "file_extension": ".py",
   "mimetype": "text/x-python",
   "name": "python",
   "nbconvert_exporter": "python",
   "pygments_lexer": "ipython3",
   "version": "3.11.3"
  },
  "orig_nbformat": 4
 },
 "nbformat": 4,
 "nbformat_minor": 2
}
